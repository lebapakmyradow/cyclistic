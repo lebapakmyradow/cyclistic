{
 "cells": [
  {
   "cell_type": "code",
   "execution_count": 1,
   "id": "e941f130",
   "metadata": {},
   "outputs": [],
   "source": [
    "from pyspark.sql import SparkSession"
   ]
  },
  {
   "cell_type": "code",
   "execution_count": 2,
   "id": "e96f8e61",
   "metadata": {},
   "outputs": [],
   "source": [
    "from pyspark.sql.types import *"
   ]
  },
  {
   "cell_type": "code",
   "execution_count": 3,
   "id": "928148a6",
   "metadata": {},
   "outputs": [],
   "source": [
    "from pyspark.sql.functions import *"
   ]
  },
  {
   "cell_type": "code",
   "execution_count": 4,
   "id": "4bd94ed3",
   "metadata": {},
   "outputs": [],
   "source": [
    "spark=SparkSession.builder.getOrCreate()"
   ]
  },
  {
   "cell_type": "code",
   "execution_count": 5,
   "id": "e9b8daef",
   "metadata": {},
   "outputs": [],
   "source": [
    "ds1=spark.read.csv('202105-divvy-tripdata.csv', header=True)\n",
    "ds2=spark.read.csv('202104-divvy-tripdata.csv', header=True)\n",
    "ds3=spark.read.csv('202103-divvy-tripdata.csv', header=True)\n",
    "ds4=spark.read.csv('202102-divvy-tripdata.csv', header=True)\n",
    "ds5=spark.read.csv('202101-divvy-tripdata.csv', header=True)\n",
    "ds6=spark.read.csv('202012-divvy-tripdata.csv', header=True)\n",
    "ds7=spark.read.csv('202011-divvy-tripdata.csv', header=True)\n",
    "ds8=spark.read.csv('202010-divvy-tripdata.csv', header=True)\n",
    "ds9=spark.read.csv('202009-divvy-tripdata.csv', header=True)\n",
    "ds10=spark.read.csv('202008-divvy-tripdata.csv', header=True)\n",
    "ds11=spark.read.csv('202007-divvy-tripdata.csv', header=True)\n",
    "ds12=spark.read.csv('202006-divvy-tripdata.csv', header=True)"
   ]
  },
  {
   "cell_type": "code",
   "execution_count": 7,
   "id": "13dd4cbb",
   "metadata": {},
   "outputs": [],
   "source": [
    "#merging all datasets to one 'ds' dataframe\n",
    "ds=ds1.union(ds2).union(ds3).union(ds4).union(ds5).union(ds6).union(ds7).union(ds8).union(ds9).union(ds10).union(ds11).union(ds12)"
   ]
  },
  {
   "cell_type": "code",
   "execution_count": 9,
   "id": "f97c9625",
   "metadata": {
    "scrolled": true
   },
   "outputs": [
    {
     "name": "stdout",
     "output_type": "stream",
     "text": [
      "(4073561, 13)\n"
     ]
    }
   ],
   "source": [
    "print((ds.count(), len(ds.columns)))"
   ]
  },
  {
   "cell_type": "code",
   "execution_count": 11,
   "id": "7b1ca912",
   "metadata": {},
   "outputs": [
    {
     "data": {
      "text/plain": [
       "Row(ride_id='C809ED75D6160B2A', rideable_type='electric_bike', started_at='2021-05-30 11:58:15', ended_at='2021-05-30 12:10:39', start_station_name=None, start_station_id=None, end_station_name=None, end_station_id=None, start_lat='41.9', start_lng='-87.63', end_lat='41.89', end_lng='-87.61', member_casual='casual')"
      ]
     },
     "execution_count": 11,
     "metadata": {},
     "output_type": "execute_result"
    }
   ],
   "source": [
    "ds.first()"
   ]
  },
  {
   "cell_type": "code",
   "execution_count": 14,
   "id": "64d0e726",
   "metadata": {},
   "outputs": [
    {
     "name": "stdout",
     "output_type": "stream",
     "text": [
      "+----------------+-------------+-------------------+-------------------+------------------+----------------+----------------+--------------+---------+---------+-------+-------+-------------+\n",
      "|         ride_id|rideable_type|         started_at|           ended_at|start_station_name|start_station_id|end_station_name|end_station_id|start_lat|start_lng|end_lat|end_lng|member_casual|\n",
      "+----------------+-------------+-------------------+-------------------+------------------+----------------+----------------+--------------+---------+---------+-------+-------+-------------+\n",
      "|C809ED75D6160B2A|electric_bike|2021-05-30 11:58:15|2021-05-30 12:10:39|              null|            null|            null|          null|     41.9|   -87.63|  41.89| -87.61|       casual|\n",
      "|DD59FDCE0ACACAF3|electric_bike|2021-05-30 11:29:14|2021-05-30 12:14:09|              null|            null|            null|          null|    41.88|   -87.62|  41.79| -87.58|       casual|\n",
      "|0AB83CB88C43EFC2|electric_bike|2021-05-30 14:24:01|2021-05-30 14:25:13|              null|            null|            null|          null|    41.92|    -87.7|  41.92|  -87.7|       casual|\n",
      "|7881AC6D39110C60|electric_bike|2021-05-30 14:25:51|2021-05-30 14:41:04|              null|            null|            null|          null|    41.92|    -87.7|  41.94| -87.69|       casual|\n",
      "|853FA701B4582BAF|electric_bike|2021-05-30 18:15:39|2021-05-30 18:22:32|              null|            null|            null|          null|    41.94|   -87.69|  41.94|  -87.7|       casual|\n",
      "+----------------+-------------+-------------------+-------------------+------------------+----------------+----------------+--------------+---------+---------+-------+-------+-------------+\n",
      "only showing top 5 rows\n",
      "\n"
     ]
    }
   ],
   "source": [
    "ds.show(5)"
   ]
  },
  {
   "cell_type": "code",
   "execution_count": 15,
   "id": "6a3269b0",
   "metadata": {},
   "outputs": [
    {
     "data": {
      "text/plain": [
       "4073561"
      ]
     },
     "execution_count": 15,
     "metadata": {},
     "output_type": "execute_result"
    }
   ],
   "source": [
    "ds.dropDuplicates().count()"
   ]
  },
  {
   "cell_type": "code",
   "execution_count": 16,
   "id": "abe5edf5",
   "metadata": {},
   "outputs": [],
   "source": [
    "import pyspark.sql.functions as F\n",
    "ds = ds.withColumn(\"a\", (\n",
    "        F.pow(F.sin(F.radians(F.col(\"end_lat\") - F.col(\"start_lat\")) / 2), 2) +\n",
    "        F.cos(F.radians(F.col(\"start_lat\"))) * F.cos(F.radians(F.col(\"end_lat\"))) *\n",
    "        F.pow(F.sin(F.radians(F.col(\"end_lng\") - F.col(\"start_lng\")) / 2), 2)\n",
    "    )).withColumn(\"distance_traveled\", F.atan2(F.sqrt(F.col(\"a\")), F.sqrt(-F.col(\"a\") + 1)) * 12742000)"
   ]
  },
  {
   "cell_type": "code",
   "execution_count": 21,
   "id": "cc2ca180",
   "metadata": {},
   "outputs": [
    {
     "name": "stdout",
     "output_type": "stream",
     "text": [
      "+---------+---------+-------+-------+------------------+\n",
      "|start_lat|start_lng|end_lat|end_lng| distance_traveled|\n",
      "+---------+---------+-------+-------+------------------+\n",
      "|     41.9|   -87.63|  41.89| -87.61|1994.1890794035653|\n",
      "|    41.88|   -87.62|  41.79| -87.58|10541.961176829122|\n",
      "|    41.92|    -87.7|  41.92|  -87.7|               0.0|\n",
      "|    41.92|    -87.7|  41.94| -87.69| 2372.775481761235|\n",
      "|    41.94|   -87.69|  41.94|  -87.7| 827.1180459695228|\n",
      "+---------+---------+-------+-------+------------------+\n",
      "only showing top 5 rows\n",
      "\n"
     ]
    }
   ],
   "source": [
    "ds.select('start_lat','start_lng', 'end_lat', 'end_lng','distance_traveled').show(5)"
   ]
  },
  {
   "cell_type": "code",
   "execution_count": 23,
   "id": "6429d088",
   "metadata": {
    "scrolled": false
   },
   "outputs": [
    {
     "name": "stdout",
     "output_type": "stream",
     "text": [
      "+-------------------+-------------------+-------------+---------+\n",
      "|         started_at|           ended_at|member_casual|date_diff|\n",
      "+-------------------+-------------------+-------------+---------+\n",
      "|2020-09-02 18:34:33|2020-10-10 11:17:54|       casual|       38|\n",
      "|2021-05-02 02:56:07|2021-06-08 13:37:43|       casual|       37|\n",
      "|2020-09-06 23:20:29|2020-10-12 11:46:25|       casual|       36|\n",
      "|2020-09-05 08:50:15|2020-10-10 13:43:02|       casual|       35|\n",
      "|2020-07-05 14:25:39|2020-08-09 07:11:06|       casual|       35|\n",
      "|2020-07-05 01:51:06|2020-08-08 12:13:19|       casual|       34|\n",
      "|2020-07-02 17:26:55|2020-08-04 07:16:12|       casual|       33|\n",
      "|2021-04-02 17:50:00|2021-05-05 22:06:42|       casual|       33|\n",
      "|2020-07-02 19:49:10|2020-08-04 18:00:37|       casual|       33|\n",
      "|2020-07-07 14:36:11|2020-08-09 19:13:11|       casual|       33|\n",
      "+-------------------+-------------------+-------------+---------+\n",
      "only showing top 10 rows\n",
      "\n"
     ]
    }
   ],
   "source": [
    "#create a column that finds the date difference, and show it in descending order (largest to least)\n",
    "ds= ds.withColumn('date_diff', F.datediff(F.to_date(ds.ended_at), F.to_date(ds.started_at)))\n",
    "ds.select('started_at', 'ended_at', 'member_casual','date_diff').sort(ds.date_diff.desc()).show(10)"
   ]
  },
  {
   "cell_type": "code",
   "execution_count": 26,
   "id": "a2b49102",
   "metadata": {
    "scrolled": false
   },
   "outputs": [
    {
     "name": "stdout",
     "output_type": "stream",
     "text": [
      "+-------------------+-------------------+-------------+---------+\n",
      "|         started_at|           ended_at|member_casual|date_diff|\n",
      "+-------------------+-------------------+-------------+---------+\n",
      "|2021-05-28 12:48:58|2021-05-28 13:00:08|       casual|        0|\n",
      "|2021-05-30 19:45:10|2021-05-30 20:01:31|       casual|        0|\n",
      "|2021-05-26 23:42:44|2021-05-26 23:53:55|       casual|        0|\n",
      "|2021-05-13 22:43:48|2021-05-13 22:50:27|       member|        0|\n",
      "|2021-05-13 22:43:51|2021-05-13 22:50:33|       member|        0|\n",
      "|2021-05-05 08:18:53|2021-05-05 08:38:34|       member|        0|\n",
      "|2021-05-17 12:29:42|2021-05-17 12:57:30|       member|        0|\n",
      "|2021-05-13 07:47:26|2021-05-13 12:29:02|       member|        0|\n",
      "|2021-05-01 16:38:28|2021-05-01 16:48:51|       casual|        0|\n",
      "|2021-05-08 05:12:06|2021-05-08 05:20:39|       casual|        0|\n",
      "+-------------------+-------------------+-------------+---------+\n",
      "only showing top 10 rows\n",
      "\n"
     ]
    }
   ],
   "source": [
    "#when we order the date difference in ascending order, we see that we have incorrect negative values \n",
    "ds.select('started_at', 'ended_at', 'member_casual','date_diff').sort(ds.date_diff.asc()).show(10)"
   ]
  },
  {
   "cell_type": "code",
   "execution_count": 25,
   "id": "1615c6de",
   "metadata": {},
   "outputs": [
    {
     "data": {
      "text/plain": [
       "4073182"
      ]
     },
     "execution_count": 25,
     "metadata": {},
     "output_type": "execute_result"
    }
   ],
   "source": [
    "ds=ds.filter(col('date_diff').cast(LongType()) >= 0)\n",
    "ds.count()"
   ]
  },
  {
   "cell_type": "code",
   "execution_count": 27,
   "id": "e1cb27c0",
   "metadata": {},
   "outputs": [],
   "source": [
    "ds = ds.withColumn('duration_in_min', (ds.date_diff*24*60) + F.hour(ds.ended_at)*60+F.minute(ds.ended_at)+\n",
    "        F.second(ds.ended_at)/60- F.hour(ds.started_at)*60-F.minute(ds.started_at)- F.second(ds.started_at)/60)"
   ]
  },
  {
   "cell_type": "code",
   "execution_count": 28,
   "id": "c726052e",
   "metadata": {},
   "outputs": [
    {
     "name": "stdout",
     "output_type": "stream",
     "text": [
      "+-------------------+-------------------+-------------+---------+------------------+------------------+\n",
      "|         started_at|           ended_at|member_casual|date_diff| distance_traveled|   duration_in_min|\n",
      "+-------------------+-------------------+-------------+---------+------------------+------------------+\n",
      "|2021-05-30 11:58:15|2021-05-30 12:10:39|       casual|        0|1994.1890794035653|12.399999999999977|\n",
      "|2021-05-30 11:29:14|2021-05-30 12:14:09|       casual|        0|10541.961176829122| 44.91666666666664|\n",
      "|2021-05-30 14:24:01|2021-05-30 14:25:13|       casual|        0|               0.0|1.2000000000000304|\n",
      "|2021-05-30 14:25:51|2021-05-30 14:41:04|       casual|        0| 2372.775481761235| 15.21666666666672|\n",
      "|2021-05-30 18:15:39|2021-05-30 18:22:32|       casual|        0| 827.1180459695228| 6.883333333333303|\n",
      "|2021-05-30 11:33:41|2021-05-30 11:57:17|       casual|        0|1386.2667237514747| 23.59999999999997|\n",
      "|2021-05-30 10:51:37|2021-05-30 11:06:20|       casual|        0|3436.9377567631027|14.716666666666704|\n",
      "|2021-05-05 13:57:03|2021-05-05 14:14:58|       casual|        0|               0.0|17.916666666666696|\n",
      "|2021-05-05 11:31:26|2021-05-05 11:34:03|       casual|        0|               0.0| 2.616666666666621|\n",
      "|2021-05-04 19:51:05|2021-05-04 20:17:26|       casual|        0|               0.0|26.350000000000062|\n",
      "+-------------------+-------------------+-------------+---------+------------------+------------------+\n",
      "only showing top 10 rows\n",
      "\n"
     ]
    }
   ],
   "source": [
    "ds.select('started_at', 'ended_at', 'member_casual','date_diff', 'distance_traveled', 'duration_in_min').show(10)"
   ]
  },
  {
   "cell_type": "code",
   "execution_count": 30,
   "id": "6b8876e9",
   "metadata": {},
   "outputs": [
    {
     "name": "stdout",
     "output_type": "stream",
     "text": [
      "+-------+------------------+-------------------+\n",
      "|summary| distance_traveled|    duration_in_min|\n",
      "+-------+------------------+-------------------+\n",
      "|  count|           4068146|            4073182|\n",
      "|   mean|   2221.8403058682| 26.882429780942815|\n",
      "| stddev|2025.9532818899693|  236.6782296468922|\n",
      "|    min|               0.0|-120.30000000000004|\n",
      "|    25%| 865.4421767937478|  7.666666666666621|\n",
      "|    50%|1675.2243117725307| 14.016666666666605|\n",
      "|    75%|3018.4568996381654| 25.850000000000016|\n",
      "|    max| 48370.80097108494|           54283.35|\n",
      "+-------+------------------+-------------------+\n",
      "\n"
     ]
    }
   ],
   "source": [
    "ds.select('distance_traveled','duration_in_min').summary().show()"
   ]
  },
  {
   "cell_type": "code",
   "execution_count": 31,
   "id": "ebd966ed",
   "metadata": {
    "scrolled": false
   },
   "outputs": [
    {
     "name": "stdout",
     "output_type": "stream",
     "text": [
      "+-------------------+-------------------+---------+-------------------+\n",
      "|         started_at|           ended_at|date_diff|    duration_in_min|\n",
      "+-------------------+-------------------+---------+-------------------+\n",
      "|2020-07-25 15:08:21|2020-07-25 13:08:03|        0|-120.30000000000004|\n",
      "|2020-10-16 16:44:52|2020-10-16 15:09:51|        0| -95.01666666666664|\n",
      "|2020-10-16 16:44:53|2020-10-16 15:10:54|        0| -93.98333333333336|\n",
      "|2020-10-16 16:44:55|2020-10-16 15:11:27|        0| -93.46666666666663|\n",
      "|2020-10-16 16:44:56|2020-10-16 15:43:14|        0| -61.69999999999998|\n",
      "|2020-10-16 16:44:58|2020-10-16 15:45:03|        0|-59.916666666666714|\n",
      "|2020-11-01 01:57:30|2020-11-01 01:00:39|        0|             -56.85|\n",
      "|2020-11-01 01:56:26|2020-11-01 01:00:29|        0|-55.949999999999996|\n",
      "|2020-11-01 01:55:57|2020-11-01 01:02:04|        0| -53.88333333333333|\n",
      "|2020-11-01 01:54:40|2020-11-01 01:01:34|        0|-53.099999999999994|\n",
      "+-------------------+-------------------+---------+-------------------+\n",
      "only showing top 10 rows\n",
      "\n"
     ]
    }
   ],
   "source": [
    "ds.select('started_at', 'ended_at', 'date_diff', 'duration_in_min').sort(ds.duration_in_min.asc()).show(10)\n"
   ]
  },
  {
   "cell_type": "code",
   "execution_count": 32,
   "id": "56c9ed72",
   "metadata": {},
   "outputs": [
    {
     "data": {
      "text/plain": [
       "4063030"
      ]
     },
     "execution_count": 32,
     "metadata": {},
     "output_type": "execute_result"
    }
   ],
   "source": [
    "ds=ds.filter(col('duration_in_min') >= 0.0)\n",
    "ds.count()"
   ]
  },
  {
   "cell_type": "code",
   "execution_count": 33,
   "id": "fbae4b33",
   "metadata": {},
   "outputs": [],
   "source": [
    "ds=ds.withColumn(\"day_of_week\", date_format(col('started_at'), 'EEEE'))"
   ]
  },
  {
   "cell_type": "code",
   "execution_count": 35,
   "id": "6dcc4ad3",
   "metadata": {
    "scrolled": false
   },
   "outputs": [
    {
     "name": "stdout",
     "output_type": "stream",
     "text": [
      "+-------+-------------+------------------+------------------+-----------+\n",
      "|summary|member_casual| distance_traveled|   duration_in_min|day_of_week|\n",
      "+-------+-------------+------------------+------------------+-----------+\n",
      "|  count|      4063030|           4058030|           4063030|    4063030|\n",
      "|   mean|         null|2221.7196330920974|26.951445087369166|       null|\n",
      "| stddev|         null|2025.9456418320642|236.96962416906916|       null|\n",
      "|    min|       casual|               0.0|               0.0|     Friday|\n",
      "|    25%|         null| 865.4421767937478| 7.700000000000012|       null|\n",
      "|    50%|         null|1674.9411822309112|14.049999999999985|       null|\n",
      "|    75%|         null|3018.4110032739354|25.899999999999984|       null|\n",
      "|    max|       member| 48370.80097108494|          54283.35|  Wednesday|\n",
      "+-------+-------------+------------------+------------------+-----------+\n",
      "\n"
     ]
    }
   ],
   "source": [
    "ds.select('member_casual','distance_traveled', 'duration_in_min', 'day_of_week').summary().show()"
   ]
  },
  {
   "cell_type": "code",
   "execution_count": 36,
   "id": "35ad8811",
   "metadata": {},
   "outputs": [
    {
     "name": "stdout",
     "output_type": "stream",
     "text": [
      "+-------------+-------+\n",
      "|member_casual|  count|\n",
      "+-------------+-------+\n",
      "|       casual|1710107|\n",
      "|         null|4063030|\n",
      "|       member|2352923|\n",
      "+-------------+-------+\n",
      "\n"
     ]
    }
   ],
   "source": [
    "#casual vs member distribution\n",
    "ds.cube('member_casual').count().show()"
   ]
  },
  {
   "cell_type": "code",
   "execution_count": 37,
   "id": "12e58f58",
   "metadata": {},
   "outputs": [
    {
     "name": "stdout",
     "output_type": "stream",
     "text": [
      "+-----------+-------+\n",
      "|day_of_week|  count|\n",
      "+-----------+-------+\n",
      "|  Wednesday| 529720|\n",
      "|   Thursday| 533708|\n",
      "|    Tuesday| 503792|\n",
      "|     Monday| 503884|\n",
      "|       null|4063030|\n",
      "|     Friday| 597210|\n",
      "|     Sunday| 637741|\n",
      "|   Saturday| 756975|\n",
      "+-----------+-------+\n",
      "\n"
     ]
    }
   ],
   "source": [
    "#frequency distribution of day of the week\n",
    "ds.cube('day_of_week').count().show()"
   ]
  },
  {
   "cell_type": "code",
   "execution_count": 38,
   "id": "d708590a",
   "metadata": {},
   "outputs": [
    {
     "name": "stdout",
     "output_type": "stream",
     "text": [
      "+-------------+-------+\n",
      "|rideable_type|  count|\n",
      "+-------------+-------+\n",
      "| classic_bike| 843555|\n",
      "|         null|4063030|\n",
      "|electric_bike| 888224|\n",
      "|  docked_bike|2331251|\n",
      "+-------------+-------+\n",
      "\n"
     ]
    }
   ],
   "source": [
    "#frequency distr of bike types\n",
    "ds.cube('rideable_type').count().show()"
   ]
  },
  {
   "cell_type": "code",
   "execution_count": 39,
   "id": "b20e9e41",
   "metadata": {
    "scrolled": true
   },
   "outputs": [],
   "source": [
    "#start_station_name frequency is counted and sorted in a descending way\n",
    "df=spark.createDataFrame(ds.cube('start_station_name').count().collect())\n"
   ]
  },
  {
   "cell_type": "code",
   "execution_count": 41,
   "id": "6815a0fd",
   "metadata": {},
   "outputs": [
    {
     "name": "stdout",
     "output_type": "stream",
     "text": [
      "+--------------------+-------+\n",
      "|  start_station_name|  count|\n",
      "+--------------------+-------+\n",
      "|                null|4063030|\n",
      "|                null| 201925|\n",
      "|Streeter Dr & Gra...|  48000|\n",
      "|Lake Shore Dr & M...|  39335|\n",
      "|   Clark St & Elm St|  35982|\n",
      "| Theater on the Lake|  35935|\n",
      "|Lake Shore Dr & N...|  32401|\n",
      "|     Millennium Park|  30385|\n",
      "|Wells St & Concor...|  29948|\n",
      "|Michigan Ave & Oa...|  28524|\n",
      "+--------------------+-------+\n",
      "only showing top 10 rows\n",
      "\n"
     ]
    }
   ],
   "source": [
    "df.sort(df['count'].desc()).show(10)"
   ]
  },
  {
   "cell_type": "code",
   "execution_count": 42,
   "id": "c997dc9e",
   "metadata": {
    "scrolled": true
   },
   "outputs": [],
   "source": [
    "#filling all null values with missing_data value, so that we can infer smth in EDA\n",
    "ds=ds.na.fill('missing_data')"
   ]
  },
  {
   "cell_type": "code",
   "execution_count": 43,
   "id": "e885d3dd",
   "metadata": {
    "scrolled": true
   },
   "outputs": [],
   "source": [
    "ds=ds.orderBy('started_at')"
   ]
  },
  {
   "cell_type": "code",
   "execution_count": 46,
   "id": "4675dcf0",
   "metadata": {},
   "outputs": [
    {
     "name": "stdout",
     "output_type": "stream",
     "text": [
      "(4063030, 18)\n"
     ]
    }
   ],
   "source": [
    "print((ds.count(), len(ds.columns)))"
   ]
  },
  {
   "cell_type": "code",
   "execution_count": 47,
   "id": "04e366cd",
   "metadata": {},
   "outputs": [],
   "source": [
    "ds=ds.drop('ride_id')\n",
    "ds=ds.drop('start_station_id')\n",
    "ds=ds.drop('end_station_id')\n",
    "ds=ds.drop('start_lat')\n",
    "ds=ds.drop('end_lat')\n",
    "ds=ds.drop('start_lng')\n",
    "ds=ds.drop('end_lng')\n",
    "ds=ds.drop('a')\n",
    "ds=ds.drop('date_diff')"
   ]
  },
  {
   "cell_type": "code",
   "execution_count": 18,
   "id": "97973fba",
   "metadata": {},
   "outputs": [],
   "source": [
    "ds.repartition(1).write.csv(\"ds_dropped.csv\", header=True)"
   ]
  }
 ],
 "metadata": {
  "kernelspec": {
   "display_name": "Python 3",
   "language": "python",
   "name": "python3"
  },
  "language_info": {
   "codemirror_mode": {
    "name": "ipython",
    "version": 3
   },
   "file_extension": ".py",
   "mimetype": "text/x-python",
   "name": "python",
   "nbconvert_exporter": "python",
   "pygments_lexer": "ipython3",
   "version": "3.8.3"
  }
 },
 "nbformat": 4,
 "nbformat_minor": 5
}
